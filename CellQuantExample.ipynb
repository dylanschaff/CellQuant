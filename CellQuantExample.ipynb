{
 "cells": [
  {
   "cell_type": "code",
   "execution_count": 1,
   "metadata": {},
   "outputs": [
    {
     "name": "stdout",
     "output_type": "stream",
     "text": [
      "/Users/dylanschaff/Documents/GitHub/CellQuant\n"
     ]
    }
   ],
   "source": [
    "#change this path to location of CellQuant folder\n",
    "%cd //Users/dylanschaff/Documents/GitHub/CellQuant\n",
    "import glob\n",
    "import CellQuant"
   ]
  },
  {
   "cell_type": "code",
   "execution_count": 4,
   "metadata": {},
   "outputs": [
    {
     "data": {
      "text/plain": [
       "array([[0, 0, 0, ..., 0, 0, 0],\n",
       "       [0, 0, 0, ..., 0, 0, 0],\n",
       "       [0, 0, 0, ..., 0, 0, 0],\n",
       "       ...,\n",
       "       [0, 0, 0, ..., 0, 0, 0],\n",
       "       [0, 0, 0, ..., 0, 0, 0],\n",
       "       [0, 0, 0, ..., 0, 0, 0]], dtype=uint16)"
      ]
     },
     "execution_count": 4,
     "metadata": {},
     "output_type": "execute_result"
    }
   ],
   "source": [
    "## Check Mask\n",
    "#Raw image in Tif format\n",
    "ImagePath = '/Volumes/GoogleDrive/My Drive/Schaff_Shared/Cloud/Experiment_IDs/DLS032/20220811_153118_467/Plate2022_08_11_DLS032_Plate2_Well2_ChannelDAPI_Seq0001.tif'\n",
    "#Mask in Tif format\n",
    "MaskPath = '/Volumes/GoogleDrive/My Drive/Schaff_Shared/Cloud/Experiment_IDs/DLS032/20220811_153118_467/Plate2022_08_11_DLS032_Plate2_Well2_ChannelDAPI_Seq0001_tissue_mask.tif'\n",
    "#Channel of raw image mask is trying to capture (default is 1)\n",
    "Channel = 1\n",
    "#number to set brightness of raw image in output image (default = .15)\n",
    "brightness = .1\n",
    "\n",
    "#Run MaskCheck\n",
    "CellQuant.MaskCheck(img_path=ImagePath,mask_path=MaskPath,channel=Channel,min_brightness=brightness)"
   ]
  },
  {
   "cell_type": "code",
   "execution_count": null,
   "metadata": {},
   "outputs": [],
   "source": [
    "##get All XY coordinates from DeepCell Masks\n",
    "#paths to mask files\n",
    "PATHS = glob.glob('/Volumes/gharmHD1/20210817_DensityRep4/**/Stitch_tif/DownSized/*_nuc_mask.tif')\n",
    "\n",
    "for path in PATHS:\n",
    "    CellQuant.MaskPos(path)"
   ]
  },
  {
   "cell_type": "code",
   "execution_count": null,
   "metadata": {},
   "outputs": [],
   "source": [
    "##get intensities within a mask\n",
    "#raw image tif file\n",
    "Image_path = '/Volumes/gharmHD1/WM989_mousePDX_mailer2/Stitch_tif/DownSized/NDplate4postScan027cy3023_60x.tif'\n",
    "#maks tif file\n",
    "Mask_path = '/Volumes/gharmHD1/WM989_mousePDX_mailer2/NDplate4postScan027cy3024_60x.tif'\n",
    "#which chanels you want to quanitfy in the mask\n",
    "Channels = [2,3,4,5]\n",
    "\n",
    "#Run maskQuant\n",
    "data=CellQuant.MaskQuant(Image_path,Mask_path,Channels)"
   ]
  },
  {
   "cell_type": "code",
   "execution_count": null,
   "metadata": {},
   "outputs": [],
   "source": [
    "##Check that the radius used covers a resonable area to capture local density\n",
    "#path to xy csv\n",
    "path = '/Volumes/GoogleDrive-102645418911673044360/My Drive/Guillaume_Shared/ModulatingPrimedCells/RawData/Microscopy/20220817_PI3KiTimingR4/DTPI3kiLate_DTPI3kiPre/20220817_153439_656__Plate000_Well1_ChannelDAPI_Seq0000_deepcell_mesmer_nuc_Cellxy.csv'\n",
    "#radius you want to test (in um)\n",
    "radius = 50\n",
    "# objective used\n",
    "objective = '10x'\n",
    "CellQuant.TestRad(path,radius,objective)"
   ]
  },
  {
   "cell_type": "code",
   "execution_count": 7,
   "metadata": {},
   "outputs": [
    {
     "name": "stdout",
     "output_type": "stream",
     "text": [
      "Density functions assumes images are from the Shaffer Lab Scope with 2x2 binning, if not using this scope edit the RESOLUTIONS dictionary in this funtion with the correct um/pixel values for each objective\n"
     ]
    }
   ],
   "source": [
    "##Calculate densities\n",
    "#paths to xy csv\n",
    "PATHS = glob.glob('/Volumes/GoogleDrive-102645418911673044360/My Drive/Guillaume_Shared/ModulatingPrimedCells/RawData/Microscopy/20220817_PI3KiTimingR4/DTPI3kiLate_DTPI3kiPre/untitled folder',recursive=True)\n",
    "#radius you want to test (in um)\n",
    "radius = 50\n",
    "# objective used\n",
    "objective = '10x'\n",
    "\n",
    "for path in PATHS:\n",
    "    CellQuant.DensityQuant(path,radius,objective)"
   ]
  },
  {
   "cell_type": "code",
   "execution_count": 8,
   "metadata": {},
   "outputs": [],
   "source": [
    "##plot densities\n",
    "#paths to density files\n",
    "FILES = glob.glob('/Volumes/GoogleDrive-102645418911673044360/My Drive/Guillaume_Shared/ModulatingPrimedCells/RawData/Microscopy/20220817_PI3KiTimingR4/DTPI3kiLate_DTPI3kiPre/untitled folder/20220817_153439_656__Plate000_Well1_ChannelDAPI_Seq0000_deepcell_mesmer_nuc_SingleCellDensity.csv',recursive=True)\n",
    "\n",
    "for file in FILES:\n",
    "    CellQuant.PlotDensity(file)"
   ]
  },
  {
   "cell_type": "code",
   "execution_count": null,
   "metadata": {},
   "outputs": [],
   "source": [
    "##make mask that samples the cytoplasm\n",
    "#paths to nuclear masks\n",
    "PATHS = glob.glob('/Volumes/GoogleDrive-102645418911673044360/My Drive/Guillaume_Shared/ModulatingPrimedCells/RawData/Microscopy/*.nuc_mask.tif',recursive=True)\n",
    "for path in PATHS:\n",
    "    MakeCytoMask(nucPath)"
   ]
  },
  {
   "cell_type": "code",
   "execution_count": null,
   "metadata": {},
   "outputs": [],
   "source": [
    "## calculate cytoplasmic to nuclear ratios\n",
    "img_path = '/Volumes/GoogleDrive-102645418911673044360/My Drive/Guillaume_Shared/ModulatingPrimedCells/RawData/Microscopy/20220524_PI3Krep_NGFR/images_tif/20220524_185147_072__Plate000_Well2_ChannelGFP,A594,A647_Seq0000.tif'\n",
    "NucMask_path ='/Volumes/GoogleDrive-102645418911673044360/My Drive/Guillaume_Shared/ModulatingPrimedCells/RawData/Microscopy/20220524_PI3Krep_NGFR/images_tif/20220524_185147_072__Plate000_Well2_ChannelGFP,A594,A647_Seq0000_deepcell_mesmer_nuc_mask.tif'\n",
    "CytoMask_path = '/Volumes/GoogleDrive-102645418911673044360/My Drive/Guillaume_Shared/ModulatingPrimedCells/RawData/Microscopy/20220524_PI3Krep_NGFR/images_tif/20220524_185147_072__Plate000_Well2_ChannelGFP,A594,A647_Seq0000_deepcell_mesmer_cyto_mask.tif'\n",
    "channels = [2]\n",
    "CytoNucRatios(img_path, NucMask_path, CytoMask_path,channels)"
   ]
  },
  {
   "cell_type": "code",
   "execution_count": null,
   "metadata": {},
   "outputs": [],
   "source": []
  }
 ],
 "metadata": {
  "kernelspec": {
   "display_name": "Python 3",
   "language": "python",
   "name": "python3"
  },
  "language_info": {
   "codemirror_mode": {
    "name": "ipython",
    "version": 3
   },
   "file_extension": ".py",
   "mimetype": "text/x-python",
   "name": "python",
   "nbconvert_exporter": "python",
   "pygments_lexer": "ipython3",
   "version": "3.7.6"
  }
 },
 "nbformat": 4,
 "nbformat_minor": 5
}
